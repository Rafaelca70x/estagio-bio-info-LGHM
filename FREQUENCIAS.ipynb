{
 "cells": [
  {
   "cell_type": "code",
   "execution_count": 1,
   "id": "a868f1a0-c247-4852-a3be-887f6d17658b",
   "metadata": {
    "tags": []
   },
   "outputs": [],
   "source": [
    "import pandas as pd\n",
    "import numpy as np"
   ]
  },
  {
   "cell_type": "code",
   "execution_count": 2,
   "id": "87c44424-0f2b-4d42-803c-9bb8113777fa",
   "metadata": {
    "tags": []
   },
   "outputs": [],
   "source": [
    "AF = pd.read_csv('ALLELE_FREQ_CFTR_GNOMAD.csv', sep=',')\n",
    "MAF = pd.read_csv('MAF_CFTR_GNOMAD.csv', sep=',').drop(['CHR', 'A1', 'A2'], axis = 1)"
   ]
  },
  {
   "cell_type": "code",
   "execution_count": 37,
   "id": "ab692aec-1936-4d57-a129-16255fb1bb3e",
   "metadata": {
    "tags": []
   },
   "outputs": [],
   "source": [
    "merged = pd.concat([AF, MAF], axis = 1)\n",
    "#merged.to_csv('MAF_AF_GERAL_CFTR_GNOMAD.csv')"
   ]
  },
  {
   "cell_type": "code",
   "execution_count": 38,
   "id": "cba02eff-5196-4fd5-8026-59f6d94defb1",
   "metadata": {},
   "outputs": [
    {
     "data": {
      "text/html": [
       "<div>\n",
       "<style scoped>\n",
       "    .dataframe tbody tr th:only-of-type {\n",
       "        vertical-align: middle;\n",
       "    }\n",
       "\n",
       "    .dataframe tbody tr th {\n",
       "        vertical-align: top;\n",
       "    }\n",
       "\n",
       "    .dataframe thead th {\n",
       "        text-align: right;\n",
       "    }\n",
       "</style>\n",
       "<table border=\"1\" class=\"dataframe\">\n",
       "  <thead>\n",
       "    <tr style=\"text-align: right;\">\n",
       "      <th></th>\n",
       "      <th>CHROM</th>\n",
       "      <th>POS</th>\n",
       "      <th>N_ALLELES</th>\n",
       "      <th>N_CHR</th>\n",
       "      <th>{ALLELE:FREQ_R}</th>\n",
       "      <th>{ALLELE:FREQ_A}</th>\n",
       "      <th>SNP</th>\n",
       "      <th>MAF</th>\n",
       "      <th>NCHROBS</th>\n",
       "    </tr>\n",
       "  </thead>\n",
       "  <tbody>\n",
       "    <tr>\n",
       "      <th>0</th>\n",
       "      <td>7</td>\n",
       "      <td>117480087</td>\n",
       "      <td>2</td>\n",
       "      <td>8300</td>\n",
       "      <td>G:0.974096</td>\n",
       "      <td>C:0.0259036</td>\n",
       "      <td>rs1800501</td>\n",
       "      <td>0.025900</td>\n",
       "      <td>8300</td>\n",
       "    </tr>\n",
       "    <tr>\n",
       "      <th>1</th>\n",
       "      <td>7</td>\n",
       "      <td>117480125</td>\n",
       "      <td>2</td>\n",
       "      <td>8302</td>\n",
       "      <td>G:0.99988</td>\n",
       "      <td>A:0.000120453</td>\n",
       "      <td>rs1800072</td>\n",
       "      <td>0.000121</td>\n",
       "      <td>8302</td>\n",
       "    </tr>\n",
       "    <tr>\n",
       "      <th>2</th>\n",
       "      <td>7</td>\n",
       "      <td>117480168</td>\n",
       "      <td>2</td>\n",
       "      <td>8302</td>\n",
       "      <td>G:0.998795</td>\n",
       "      <td>A:0.00120453</td>\n",
       "      <td>rs189595246</td>\n",
       "      <td>0.001205</td>\n",
       "      <td>8302</td>\n",
       "    </tr>\n",
       "    <tr>\n",
       "      <th>3</th>\n",
       "      <td>7</td>\n",
       "      <td>117480192</td>\n",
       "      <td>2</td>\n",
       "      <td>8302</td>\n",
       "      <td>A:0.999759</td>\n",
       "      <td>G:0.000240906</td>\n",
       "      <td>rs372316624</td>\n",
       "      <td>0.000241</td>\n",
       "      <td>8302</td>\n",
       "    </tr>\n",
       "    <tr>\n",
       "      <th>4</th>\n",
       "      <td>7</td>\n",
       "      <td>117480196</td>\n",
       "      <td>2</td>\n",
       "      <td>8300</td>\n",
       "      <td>A:0.99988</td>\n",
       "      <td>G:0.000120482</td>\n",
       "      <td>rs1270693890</td>\n",
       "      <td>0.000121</td>\n",
       "      <td>8300</td>\n",
       "    </tr>\n",
       "    <tr>\n",
       "      <th>...</th>\n",
       "      <td>...</td>\n",
       "      <td>...</td>\n",
       "      <td>...</td>\n",
       "      <td>...</td>\n",
       "      <td>...</td>\n",
       "      <td>...</td>\n",
       "      <td>...</td>\n",
       "      <td>...</td>\n",
       "      <td>...</td>\n",
       "    </tr>\n",
       "    <tr>\n",
       "      <th>7007</th>\n",
       "      <td>7</td>\n",
       "      <td>117668402</td>\n",
       "      <td>2</td>\n",
       "      <td>8298</td>\n",
       "      <td>G:0.995421</td>\n",
       "      <td>A:0.00457942</td>\n",
       "      <td>rs55831234</td>\n",
       "      <td>0.004579</td>\n",
       "      <td>8298</td>\n",
       "    </tr>\n",
       "    <tr>\n",
       "      <th>7008</th>\n",
       "      <td>7</td>\n",
       "      <td>117668418</td>\n",
       "      <td>2</td>\n",
       "      <td>8300</td>\n",
       "      <td>G:0.999639</td>\n",
       "      <td>A:0.000361446</td>\n",
       "      <td>.</td>\n",
       "      <td>0.000361</td>\n",
       "      <td>8300</td>\n",
       "    </tr>\n",
       "    <tr>\n",
       "      <th>7009</th>\n",
       "      <td>7</td>\n",
       "      <td>117668430</td>\n",
       "      <td>2</td>\n",
       "      <td>8302</td>\n",
       "      <td>C:0.999759</td>\n",
       "      <td>G:0.000240906</td>\n",
       "      <td>rs190470955</td>\n",
       "      <td>0.000241</td>\n",
       "      <td>8302</td>\n",
       "    </tr>\n",
       "    <tr>\n",
       "      <th>7010</th>\n",
       "      <td>7</td>\n",
       "      <td>117668561</td>\n",
       "      <td>2</td>\n",
       "      <td>8302</td>\n",
       "      <td>G:0.99988</td>\n",
       "      <td>A:0.000120453</td>\n",
       "      <td>rs554885039</td>\n",
       "      <td>0.000121</td>\n",
       "      <td>8302</td>\n",
       "    </tr>\n",
       "    <tr>\n",
       "      <th>7011</th>\n",
       "      <td>7</td>\n",
       "      <td>117668600</td>\n",
       "      <td>2</td>\n",
       "      <td>8302</td>\n",
       "      <td>A:0.998795</td>\n",
       "      <td>G:0.00120453</td>\n",
       "      <td>rs374134325</td>\n",
       "      <td>0.001205</td>\n",
       "      <td>8302</td>\n",
       "    </tr>\n",
       "  </tbody>\n",
       "</table>\n",
       "<p>7012 rows × 9 columns</p>\n",
       "</div>"
      ],
      "text/plain": [
       "      CHROM        POS  N_ALLELES  N_CHR {ALLELE:FREQ_R} {ALLELE:FREQ_A}  \\\n",
       "0         7  117480087          2   8300      G:0.974096     C:0.0259036   \n",
       "1         7  117480125          2   8302       G:0.99988   A:0.000120453   \n",
       "2         7  117480168          2   8302      G:0.998795    A:0.00120453   \n",
       "3         7  117480192          2   8302      A:0.999759   G:0.000240906   \n",
       "4         7  117480196          2   8300       A:0.99988   G:0.000120482   \n",
       "...     ...        ...        ...    ...             ...             ...   \n",
       "7007      7  117668402          2   8298      G:0.995421    A:0.00457942   \n",
       "7008      7  117668418          2   8300      G:0.999639   A:0.000361446   \n",
       "7009      7  117668430          2   8302      C:0.999759   G:0.000240906   \n",
       "7010      7  117668561          2   8302       G:0.99988   A:0.000120453   \n",
       "7011      7  117668600          2   8302      A:0.998795    G:0.00120453   \n",
       "\n",
       "               SNP       MAF  NCHROBS  \n",
       "0        rs1800501  0.025900     8300  \n",
       "1        rs1800072  0.000121     8302  \n",
       "2      rs189595246  0.001205     8302  \n",
       "3      rs372316624  0.000241     8302  \n",
       "4     rs1270693890  0.000121     8300  \n",
       "...            ...       ...      ...  \n",
       "7007    rs55831234  0.004579     8298  \n",
       "7008             .  0.000361     8300  \n",
       "7009   rs190470955  0.000241     8302  \n",
       "7010   rs554885039  0.000121     8302  \n",
       "7011   rs374134325  0.001205     8302  \n",
       "\n",
       "[7012 rows x 9 columns]"
      ]
     },
     "execution_count": 38,
     "metadata": {},
     "output_type": "execute_result"
    }
   ],
   "source": [
    "merged"
   ]
  },
  {
   "cell_type": "code",
   "execution_count": 39,
   "id": "fa102af8-9862-4a02-8026-1f6b150c6a4b",
   "metadata": {},
   "outputs": [],
   "source": [
    "idx_snp = (merged.loc[merged['SNP']=='.']).index"
   ]
  },
  {
   "cell_type": "code",
   "execution_count": 49,
   "id": "ee6a94a2-a11e-47a1-b49a-331990a43913",
   "metadata": {
    "tags": []
   },
   "outputs": [],
   "source": [
    "for i in idx_snp:\n",
    "    merged.at[i, 'SNP'] = ('7:{}'.format(merged['POS'][i]))"
   ]
  },
  {
   "cell_type": "code",
   "execution_count": 54,
   "id": "40c9951e-2ab5-4a78-bf90-8e623884d687",
   "metadata": {
    "tags": []
   },
   "outputs": [],
   "source": [
    "#merged.to_csv('merged.csv')"
   ]
  },
  {
   "cell_type": "code",
   "execution_count": 57,
   "id": "9077cb5d-13c3-4636-9293-6b8cb3965ff5",
   "metadata": {
    "tags": []
   },
   "outputs": [],
   "source": [
    "freq_pop = pd.read_csv('freq_populaçoes.csv',sep=',')"
   ]
  },
  {
   "cell_type": "code",
   "execution_count": 108,
   "id": "adbae5b3-bae2-4ac1-84c8-9abfb4d3b2f9",
   "metadata": {
    "tags": []
   },
   "outputs": [],
   "source": [
    "def comuns_raros(pop):\n",
    "    freq = freq_pop.loc[(freq_pop[pop] > 0), (pop,'SNP')]\n",
    "    comuns = freq.loc[(freq[pop] > 0.01), (pop,'SNP')]\n",
    "    raros = freq.loc[(freq[pop] <= 0.01), (pop,'SNP')]\n",
    "    return len(comuns), len(raros)"
   ]
  },
  {
   "cell_type": "code",
   "execution_count": 110,
   "id": "4fc7f041-ec8d-4f16-a239-eb95219d8855",
   "metadata": {
    "tags": []
   },
   "outputs": [
    {
     "data": {
      "text/plain": [
       "(72, 284)"
      ]
     },
     "execution_count": 110,
     "metadata": {},
     "output_type": "execute_result"
    }
   ],
   "source": [
    "comuns_raros('CEU')"
   ]
  },
  {
   "cell_type": "code",
   "execution_count": 114,
   "id": "d2a4aa87-baec-49b8-83aa-dadda6647a37",
   "metadata": {
    "tags": []
   },
   "outputs": [
    {
     "data": {
      "text/plain": [
       "[(294, 299), (72, 284), (28, 215), (117, 311), (130, 335), (166, 105), (71, 0)]"
      ]
     },
     "execution_count": 114,
     "metadata": {},
     "output_type": "execute_result"
    }
   ],
   "source": [
    "lista = [\"YRI\", \"CEU\", \"PEL\", \"PUR\", \"CLM\", \"MXL\", \"NAT\"]\n",
    "freqs = []\n",
    "for item in lista:\n",
    "    freqs.append(comuns_raros(item))\n",
    "freqs"
   ]
  },
  {
   "cell_type": "code",
   "execution_count": null,
   "id": "075cc1df-c5ce-4ce3-b713-6295c7a6c3ea",
   "metadata": {},
   "outputs": [],
   "source": []
  }
 ],
 "metadata": {
  "kernelspec": {
   "display_name": "Python 3 (ipykernel)",
   "language": "python",
   "name": "python3"
  },
  "language_info": {
   "codemirror_mode": {
    "name": "ipython",
    "version": 3
   },
   "file_extension": ".py",
   "mimetype": "text/x-python",
   "name": "python",
   "nbconvert_exporter": "python",
   "pygments_lexer": "ipython3",
   "version": "3.11.4"
  }
 },
 "nbformat": 4,
 "nbformat_minor": 5
}
