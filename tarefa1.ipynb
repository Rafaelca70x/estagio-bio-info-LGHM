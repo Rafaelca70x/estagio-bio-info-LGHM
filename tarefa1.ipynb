{
 "cells": [
  {
   "cell_type": "code",
   "execution_count": 103,
   "metadata": {},
   "outputs": [],
   "source": [
    "import pandas as pd"
   ]
  },
  {
   "cell_type": "code",
   "execution_count": 104,
   "metadata": {},
   "outputs": [],
   "source": [
    "path_gc = 'GCNetwork.txt'\n",
    "path_gnomad = \"gnomad.v2.1.1.all_lofs.txt.bgz\""
   ]
  },
  {
   "cell_type": "code",
   "execution_count": 105,
   "metadata": {},
   "outputs": [],
   "source": [
    "gnomadlof = pd.read_csv(path_gnomad, delim_whitespace=True, compression='gzip', low_memory=False)\n",
    "gc = pd.read_csv(path_gc, delim_whitespace=True)"
   ]
  },
  {
   "cell_type": "code",
   "execution_count": 106,
   "metadata": {},
   "outputs": [
    {
     "data": {
      "text/html": [
       "<div>\n",
       "<style scoped>\n",
       "    .dataframe tbody tr th:only-of-type {\n",
       "        vertical-align: middle;\n",
       "    }\n",
       "\n",
       "    .dataframe tbody tr th {\n",
       "        vertical-align: top;\n",
       "    }\n",
       "\n",
       "    .dataframe thead th {\n",
       "        text-align: right;\n",
       "    }\n",
       "</style>\n",
       "<table border=\"1\" class=\"dataframe\">\n",
       "  <thead>\n",
       "    <tr style=\"text-align: right;\">\n",
       "      <th></th>\n",
       "      <th>Cancer</th>\n",
       "      <th>Variant</th>\n",
       "    </tr>\n",
       "  </thead>\n",
       "  <tbody>\n",
       "    <tr>\n",
       "      <th>0</th>\n",
       "      <td>Breast-AdenoCA</td>\n",
       "      <td>73</td>\n",
       "    </tr>\n",
       "    <tr>\n",
       "      <th>1</th>\n",
       "      <td>Breast-AdenoCA</td>\n",
       "      <td>7028</td>\n",
       "    </tr>\n",
       "    <tr>\n",
       "      <th>2</th>\n",
       "      <td>Breast-AdenoCA</td>\n",
       "      <td>16189</td>\n",
       "    </tr>\n",
       "    <tr>\n",
       "      <th>3</th>\n",
       "      <td>Breast-AdenoCA</td>\n",
       "      <td>16278</td>\n",
       "    </tr>\n",
       "    <tr>\n",
       "      <th>4</th>\n",
       "      <td>Breast-LobularCA</td>\n",
       "      <td>489</td>\n",
       "    </tr>\n",
       "  </tbody>\n",
       "</table>\n",
       "</div>"
      ],
      "text/plain": [
       "             Cancer  Variant\n",
       "0    Breast-AdenoCA       73\n",
       "1    Breast-AdenoCA     7028\n",
       "2    Breast-AdenoCA    16189\n",
       "3    Breast-AdenoCA    16278\n",
       "4  Breast-LobularCA      489"
      ]
     },
     "execution_count": 106,
     "metadata": {},
     "output_type": "execute_result"
    }
   ],
   "source": [
    "gc.head()"
   ]
  },
  {
   "cell_type": "code",
   "execution_count": 107,
   "metadata": {},
   "outputs": [
    {
     "data": {
      "text/html": [
       "<div>\n",
       "<style scoped>\n",
       "    .dataframe tbody tr th:only-of-type {\n",
       "        vertical-align: middle;\n",
       "    }\n",
       "\n",
       "    .dataframe tbody tr th {\n",
       "        vertical-align: top;\n",
       "    }\n",
       "\n",
       "    .dataframe thead th {\n",
       "        text-align: right;\n",
       "    }\n",
       "</style>\n",
       "<table border=\"1\" class=\"dataframe\">\n",
       "  <thead>\n",
       "    <tr style=\"text-align: right;\">\n",
       "      <th></th>\n",
       "      <th>chrom</th>\n",
       "      <th>pos</th>\n",
       "      <th>ref</th>\n",
       "      <th>alt</th>\n",
       "      <th>most_severe_consequence</th>\n",
       "      <th>gene_ids</th>\n",
       "      <th>gene_symbols</th>\n",
       "      <th>transcript_ids</th>\n",
       "    </tr>\n",
       "  </thead>\n",
       "  <tbody>\n",
       "    <tr>\n",
       "      <th>0</th>\n",
       "      <td>1</td>\n",
       "      <td>69456</td>\n",
       "      <td>C</td>\n",
       "      <td>CCTACA</td>\n",
       "      <td>frameshift_variant</td>\n",
       "      <td>ENSG00000186092</td>\n",
       "      <td>OR4F5</td>\n",
       "      <td>ENST00000335137</td>\n",
       "    </tr>\n",
       "    <tr>\n",
       "      <th>1</th>\n",
       "      <td>1</td>\n",
       "      <td>69469</td>\n",
       "      <td>ACAATT</td>\n",
       "      <td>A</td>\n",
       "      <td>frameshift_variant</td>\n",
       "      <td>ENSG00000186092</td>\n",
       "      <td>OR4F5</td>\n",
       "      <td>ENST00000335137</td>\n",
       "    </tr>\n",
       "    <tr>\n",
       "      <th>2</th>\n",
       "      <td>1</td>\n",
       "      <td>69516</td>\n",
       "      <td>G</td>\n",
       "      <td>A</td>\n",
       "      <td>stop_gained</td>\n",
       "      <td>ENSG00000186092</td>\n",
       "      <td>OR4F5</td>\n",
       "      <td>ENST00000335137</td>\n",
       "    </tr>\n",
       "    <tr>\n",
       "      <th>3</th>\n",
       "      <td>1</td>\n",
       "      <td>69620</td>\n",
       "      <td>TA</td>\n",
       "      <td>T</td>\n",
       "      <td>frameshift_variant</td>\n",
       "      <td>ENSG00000186092</td>\n",
       "      <td>OR4F5</td>\n",
       "      <td>ENST00000335137</td>\n",
       "    </tr>\n",
       "    <tr>\n",
       "      <th>4</th>\n",
       "      <td>1</td>\n",
       "      <td>69702</td>\n",
       "      <td>TG</td>\n",
       "      <td>T</td>\n",
       "      <td>frameshift_variant</td>\n",
       "      <td>ENSG00000186092</td>\n",
       "      <td>OR4F5</td>\n",
       "      <td>ENST00000335137</td>\n",
       "    </tr>\n",
       "  </tbody>\n",
       "</table>\n",
       "</div>"
      ],
      "text/plain": [
       "  chrom    pos     ref     alt most_severe_consequence         gene_ids  \\\n",
       "0     1  69456       C  CCTACA      frameshift_variant  ENSG00000186092   \n",
       "1     1  69469  ACAATT       A      frameshift_variant  ENSG00000186092   \n",
       "2     1  69516       G       A             stop_gained  ENSG00000186092   \n",
       "3     1  69620      TA       T      frameshift_variant  ENSG00000186092   \n",
       "4     1  69702      TG       T      frameshift_variant  ENSG00000186092   \n",
       "\n",
       "  gene_symbols   transcript_ids  \n",
       "0        OR4F5  ENST00000335137  \n",
       "1        OR4F5  ENST00000335137  \n",
       "2        OR4F5  ENST00000335137  \n",
       "3        OR4F5  ENST00000335137  \n",
       "4        OR4F5  ENST00000335137  "
      ]
     },
     "execution_count": 107,
     "metadata": {},
     "output_type": "execute_result"
    }
   ],
   "source": [
    "gnomadlof.head()"
   ]
  },
  {
   "cell_type": "markdown",
   "metadata": {},
   "source": [
    "Fazer um algoritmo para comprar o 'tpos' (segunda coluna com o valores da segunda coluna do gc)"
   ]
  },
  {
   "cell_type": "code",
   "execution_count": 110,
   "metadata": {},
   "outputs": [],
   "source": [
    "genes = []\n",
    "for i in range(len(gnomadlof)):\n",
    "    for j in range(len(gc)):\n",
    "        if gc.at[j, 'Variant'] == gnomadlof.at[i,'pos']:\n",
    "            genes.append(gc.at[j, 'Variant'])\n",
    "\n"
   ]
  }
 ],
 "metadata": {
  "kernelspec": {
   "display_name": ".venv",
   "language": "python",
   "name": "python3"
  },
  "language_info": {
   "codemirror_mode": {
    "name": "ipython",
    "version": 3
   },
   "file_extension": ".py",
   "mimetype": "text/x-python",
   "name": "python",
   "nbconvert_exporter": "python",
   "pygments_lexer": "ipython3",
   "version": "3.11.2"
  },
  "orig_nbformat": 4
 },
 "nbformat": 4,
 "nbformat_minor": 2
}
