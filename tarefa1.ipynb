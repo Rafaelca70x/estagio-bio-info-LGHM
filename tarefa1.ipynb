{
 "cells": [
  {
   "cell_type": "code",
   "execution_count": 4,
   "metadata": {},
   "outputs": [],
   "source": [
    "import pandas as pd\n",
    "import numpy as np"
   ]
  },
  {
   "cell_type": "code",
   "execution_count": 5,
   "metadata": {},
   "outputs": [],
   "source": [
    "path_gc = 'GCNetwork.txt'\n",
    "path_gnomad =\"gnomad.v2.1.1.all_lofs.txt.bgz\""
   ]
  },
  {
   "cell_type": "code",
   "execution_count": null,
   "metadata": {},
   "outputs": [],
   "source": [
    "gnomad = pd.read_csv(path_gnomad, compression='gzip', on_bad_lines='skip', delim_whitespace=True)\n",
    "gc = pd.read_csv(path_gc, skiprows = [i for i in range (1,75)], delim_whitespace=True)\n",
    "gnomad.rename(columns = {'pos':'Variant'}, inplace = True)"
   ]
  },
  {
   "cell_type": "code",
   "execution_count": 7,
   "metadata": {},
   "outputs": [
    {
     "data": {
      "text/html": [
       "<div>\n",
       "<style scoped>\n",
       "    .dataframe tbody tr th:only-of-type {\n",
       "        vertical-align: middle;\n",
       "    }\n",
       "\n",
       "    .dataframe tbody tr th {\n",
       "        vertical-align: top;\n",
       "    }\n",
       "\n",
       "    .dataframe thead th {\n",
       "        text-align: right;\n",
       "    }\n",
       "</style>\n",
       "<table border=\"1\" class=\"dataframe\">\n",
       "  <thead>\n",
       "    <tr style=\"text-align: right;\">\n",
       "      <th></th>\n",
       "      <th>chrom</th>\n",
       "      <th>Variant</th>\n",
       "      <th>ref</th>\n",
       "      <th>alt</th>\n",
       "      <th>most_severe_consequence</th>\n",
       "      <th>gene_ids</th>\n",
       "      <th>gene_symbols</th>\n",
       "      <th>transcript_ids</th>\n",
       "    </tr>\n",
       "  </thead>\n",
       "  <tbody>\n",
       "    <tr>\n",
       "      <th>0</th>\n",
       "      <td>1</td>\n",
       "      <td>69456</td>\n",
       "      <td>C</td>\n",
       "      <td>CCTACA</td>\n",
       "      <td>frameshift_variant</td>\n",
       "      <td>ENSG00000186092</td>\n",
       "      <td>OR4F5</td>\n",
       "      <td>ENST00000335137</td>\n",
       "    </tr>\n",
       "    <tr>\n",
       "      <th>1</th>\n",
       "      <td>1</td>\n",
       "      <td>69469</td>\n",
       "      <td>ACAATT</td>\n",
       "      <td>A</td>\n",
       "      <td>frameshift_variant</td>\n",
       "      <td>ENSG00000186092</td>\n",
       "      <td>OR4F5</td>\n",
       "      <td>ENST00000335137</td>\n",
       "    </tr>\n",
       "    <tr>\n",
       "      <th>2</th>\n",
       "      <td>1</td>\n",
       "      <td>69516</td>\n",
       "      <td>G</td>\n",
       "      <td>A</td>\n",
       "      <td>stop_gained</td>\n",
       "      <td>ENSG00000186092</td>\n",
       "      <td>OR4F5</td>\n",
       "      <td>ENST00000335137</td>\n",
       "    </tr>\n",
       "    <tr>\n",
       "      <th>3</th>\n",
       "      <td>1</td>\n",
       "      <td>69620</td>\n",
       "      <td>TA</td>\n",
       "      <td>T</td>\n",
       "      <td>frameshift_variant</td>\n",
       "      <td>ENSG00000186092</td>\n",
       "      <td>OR4F5</td>\n",
       "      <td>ENST00000335137</td>\n",
       "    </tr>\n",
       "    <tr>\n",
       "      <th>4</th>\n",
       "      <td>1</td>\n",
       "      <td>69702</td>\n",
       "      <td>TG</td>\n",
       "      <td>T</td>\n",
       "      <td>frameshift_variant</td>\n",
       "      <td>ENSG00000186092</td>\n",
       "      <td>OR4F5</td>\n",
       "      <td>ENST00000335137</td>\n",
       "    </tr>\n",
       "  </tbody>\n",
       "</table>\n",
       "</div>"
      ],
      "text/plain": [
       "  chrom  Variant     ref     alt most_severe_consequence         gene_ids  \\\n",
       "0     1    69456       C  CCTACA      frameshift_variant  ENSG00000186092   \n",
       "1     1    69469  ACAATT       A      frameshift_variant  ENSG00000186092   \n",
       "2     1    69516       G       A             stop_gained  ENSG00000186092   \n",
       "3     1    69620      TA       T      frameshift_variant  ENSG00000186092   \n",
       "4     1    69702      TG       T      frameshift_variant  ENSG00000186092   \n",
       "\n",
       "  gene_symbols   transcript_ids  \n",
       "0        OR4F5  ENST00000335137  \n",
       "1        OR4F5  ENST00000335137  \n",
       "2        OR4F5  ENST00000335137  \n",
       "3        OR4F5  ENST00000335137  \n",
       "4        OR4F5  ENST00000335137  "
      ]
     },
     "execution_count": 7,
     "metadata": {},
     "output_type": "execute_result"
    }
   ],
   "source": [
    "gnomad.head()"
   ]
  },
  {
   "cell_type": "code",
   "execution_count": 8,
   "metadata": {},
   "outputs": [
    {
     "data": {
      "text/plain": [
       "False"
      ]
     },
     "execution_count": 8,
     "metadata": {},
     "output_type": "execute_result"
    }
   ],
   "source": [
    "gc.reset_index(drop=True).equals(gnomad.reset_index(drop=True))"
   ]
  }
 ],
 "metadata": {
  "kernelspec": {
   "display_name": ".venv",
   "language": "python",
   "name": "python3"
  },
  "language_info": {
   "codemirror_mode": {
    "name": "ipython",
    "version": 3
   },
   "file_extension": ".py",
   "mimetype": "text/x-python",
   "name": "python",
   "nbconvert_exporter": "python",
   "pygments_lexer": "ipython3",
   "version": "3.11.4"
  },
  "orig_nbformat": 4
 },
 "nbformat": 4,
 "nbformat_minor": 2
}
