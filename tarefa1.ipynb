{
  "cells": [
    {
      "cell_type": "code",
      "execution_count": 104,
      "metadata": {
        "colab": {
          "base_uri": "https://localhost:8080/"
        },
        "id": "SQA-OwWTkRjq",
        "outputId": "1d869c1a-aa92-4660-fe45-19c8e77cc67f"
      },
      "outputs": [
        {
          "name": "stdout",
          "output_type": "stream",
          "text": [
            "Drive already mounted at /content/drive; to attempt to forcibly remount, call drive.mount(\"/content/drive\", force_remount=True).\n"
          ]
        }
      ],
      "source": [
        "from google.colab import drive\n",
        "drive.mount('/content/drive')"
      ]
    },
    {
      "cell_type": "code",
      "execution_count": 105,
      "metadata": {
        "id": "_6Y5ahnOkDyU"
      },
      "outputs": [],
      "source": [
        "import pandas as pd\n",
        "import numpy as np\n",
        "import matplotlib.pyplot as plt"
      ]
    },
    {
      "cell_type": "code",
      "execution_count": 106,
      "metadata": {
        "id": "2mG3GDCWkDyW"
      },
      "outputs": [],
      "source": [
        "path_gc = r'/content/drive/MyDrive/Colab Notebooks/ESTAGIO LGHM/GCNetwork.txt'\n",
        "path_gnomad = r\"/content/drive/MyDrive/Colab Notebooks/ESTAGIO LGHM/gnomad.v2.1.1.all_lofs.txt.bgz\""
      ]
    },
    {
      "cell_type": "code",
      "execution_count": 107,
      "metadata": {
        "colab": {
          "base_uri": "https://localhost:8080/"
        },
        "id": "QntqkLvGkDyX",
        "outputId": "7faf4881-519b-440f-89dc-9f587abaa005"
      },
      "outputs": [
        {
          "name": "stderr",
          "output_type": "stream",
          "text": [
            "<ipython-input-107-ddd8c1ee50d6>:1: DtypeWarning: Columns (0) have mixed types. Specify dtype option on import or set low_memory=False.\n",
            "  gnomad = pd.read_csv(path_gnomad, compression='gzip', on_bad_lines='skip', delim_whitespace=True)\n"
          ]
        }
      ],
      "source": [
        "gnomad = pd.read_csv(path_gnomad, compression='gzip', on_bad_lines='skip', delim_whitespace=True)\n",
        "gc = pd.read_csv(path_gc, skiprows = [i for i in range (1,75)], delim_whitespace=True)\n",
        "gnomad.rename(columns = {'pos':'Variant'}, inplace = True)"
      ]
    },
    {
      "cell_type": "markdown",
      "metadata": {
        "id": "k6iUwKzskDyY"
      },
      "source": [
        "- CFTR\n",
        "- Uma variante pode afetar mais de um transcritos, registrar quantos são afetados por cada consequencia\n",
        "- registrar quantas variantes por cada consequencia"
      ]
    },
    {
      "cell_type": "code",
      "execution_count": null,
      "metadata": {
        "colab": {
          "base_uri": "https://localhost:8080/",
          "height": 468
        },
        "id": "LRQ_puEbtl_H",
        "outputId": "77d022c7-a742-4d26-8ea3-c953baf33108"
      },
      "outputs": [
        {
          "data": {
            "text/html": [
              "\n",
              "\n",
              "  <div id=\"df-334489ea-f8d2-4689-b279-98ac9f29c36f\">\n",
              "    <div class=\"colab-df-container\">\n",
              "      <div>\n",
              "<style scoped>\n",
              "    .dataframe tbody tr th:only-of-type {\n",
              "        vertical-align: middle;\n",
              "    }\n",
              "\n",
              "    .dataframe tbody tr th {\n",
              "        vertical-align: top;\n",
              "    }\n",
              "\n",
              "    .dataframe thead th {\n",
              "        text-align: right;\n",
              "    }\n",
              "</style>\n",
              "<table border=\"1\" class=\"dataframe\">\n",
              "  <thead>\n",
              "    <tr style=\"text-align: right;\">\n",
              "      <th></th>\n",
              "      <th>chrom</th>\n",
              "      <th>Variant</th>\n",
              "      <th>ref</th>\n",
              "      <th>alt</th>\n",
              "      <th>most_severe_consequence</th>\n",
              "      <th>gene_ids</th>\n",
              "      <th>gene_symbols</th>\n",
              "      <th>transcript_ids</th>\n",
              "    </tr>\n",
              "  </thead>\n",
              "  <tbody>\n",
              "    <tr>\n",
              "      <th>0</th>\n",
              "      <td>1</td>\n",
              "      <td>69456</td>\n",
              "      <td>C</td>\n",
              "      <td>CCTACA</td>\n",
              "      <td>frameshift_variant</td>\n",
              "      <td>ENSG00000186092</td>\n",
              "      <td>OR4F5</td>\n",
              "      <td>ENST00000335137</td>\n",
              "    </tr>\n",
              "    <tr>\n",
              "      <th>1</th>\n",
              "      <td>1</td>\n",
              "      <td>69469</td>\n",
              "      <td>ACAATT</td>\n",
              "      <td>A</td>\n",
              "      <td>frameshift_variant</td>\n",
              "      <td>ENSG00000186092</td>\n",
              "      <td>OR4F5</td>\n",
              "      <td>ENST00000335137</td>\n",
              "    </tr>\n",
              "    <tr>\n",
              "      <th>2</th>\n",
              "      <td>1</td>\n",
              "      <td>69516</td>\n",
              "      <td>G</td>\n",
              "      <td>A</td>\n",
              "      <td>stop_gained</td>\n",
              "      <td>ENSG00000186092</td>\n",
              "      <td>OR4F5</td>\n",
              "      <td>ENST00000335137</td>\n",
              "    </tr>\n",
              "    <tr>\n",
              "      <th>3</th>\n",
              "      <td>1</td>\n",
              "      <td>69620</td>\n",
              "      <td>TA</td>\n",
              "      <td>T</td>\n",
              "      <td>frameshift_variant</td>\n",
              "      <td>ENSG00000186092</td>\n",
              "      <td>OR4F5</td>\n",
              "      <td>ENST00000335137</td>\n",
              "    </tr>\n",
              "    <tr>\n",
              "      <th>4</th>\n",
              "      <td>1</td>\n",
              "      <td>69702</td>\n",
              "      <td>TG</td>\n",
              "      <td>T</td>\n",
              "      <td>frameshift_variant</td>\n",
              "      <td>ENSG00000186092</td>\n",
              "      <td>OR4F5</td>\n",
              "      <td>ENST00000335137</td>\n",
              "    </tr>\n",
              "    <tr>\n",
              "      <th>...</th>\n",
              "      <td>...</td>\n",
              "      <td>...</td>\n",
              "      <td>...</td>\n",
              "      <td>...</td>\n",
              "      <td>...</td>\n",
              "      <td>...</td>\n",
              "      <td>...</td>\n",
              "      <td>...</td>\n",
              "    </tr>\n",
              "    <tr>\n",
              "      <th>443764</th>\n",
              "      <td>Y</td>\n",
              "      <td>22921918</td>\n",
              "      <td>C</td>\n",
              "      <td>G</td>\n",
              "      <td>stop_gained</td>\n",
              "      <td>ENSG00000157828</td>\n",
              "      <td>RPS4Y2</td>\n",
              "      <td>ENST00000288666</td>\n",
              "    </tr>\n",
              "    <tr>\n",
              "      <th>443765</th>\n",
              "      <td>Y</td>\n",
              "      <td>22930689</td>\n",
              "      <td>A</td>\n",
              "      <td>G</td>\n",
              "      <td>splice_acceptor_variant</td>\n",
              "      <td>ENSG00000157828</td>\n",
              "      <td>RPS4Y2</td>\n",
              "      <td>ENST00000288666</td>\n",
              "    </tr>\n",
              "    <tr>\n",
              "      <th>443766</th>\n",
              "      <td>Y</td>\n",
              "      <td>22930763</td>\n",
              "      <td>C</td>\n",
              "      <td>T</td>\n",
              "      <td>stop_gained</td>\n",
              "      <td>ENSG00000157828</td>\n",
              "      <td>RPS4Y2</td>\n",
              "      <td>ENST00000288666</td>\n",
              "    </tr>\n",
              "    <tr>\n",
              "      <th>443767</th>\n",
              "      <td>Y</td>\n",
              "      <td>25375763</td>\n",
              "      <td>CA</td>\n",
              "      <td>C</td>\n",
              "      <td>frameshift_variant</td>\n",
              "      <td>ENSG00000205944</td>\n",
              "      <td>DAZ2</td>\n",
              "      <td>ENST00000382440,ENST00000382433,ENST0000038229...</td>\n",
              "    </tr>\n",
              "    <tr>\n",
              "      <th>443768</th>\n",
              "      <td>Y</td>\n",
              "      <td>27001010</td>\n",
              "      <td>C</td>\n",
              "      <td>T</td>\n",
              "      <td>stop_gained</td>\n",
              "      <td>ENSG00000205916</td>\n",
              "      <td>DAZ4</td>\n",
              "      <td>ENST00000415508,ENST00000400494,ENST0000038243...</td>\n",
              "    </tr>\n",
              "  </tbody>\n",
              "</table>\n",
              "<p>443769 rows × 8 columns</p>\n",
              "</div>\n",
              "      <button class=\"colab-df-convert\" onclick=\"convertToInteractive('df-334489ea-f8d2-4689-b279-98ac9f29c36f')\"\n",
              "              title=\"Convert this dataframe to an interactive table.\"\n",
              "              style=\"display:none;\">\n",
              "\n",
              "  <svg xmlns=\"http://www.w3.org/2000/svg\" height=\"24px\"viewBox=\"0 0 24 24\"\n",
              "       width=\"24px\">\n",
              "    <path d=\"M0 0h24v24H0V0z\" fill=\"none\"/>\n",
              "    <path d=\"M18.56 5.44l.94 2.06.94-2.06 2.06-.94-2.06-.94-.94-2.06-.94 2.06-2.06.94zm-11 1L8.5 8.5l.94-2.06 2.06-.94-2.06-.94L8.5 2.5l-.94 2.06-2.06.94zm10 10l.94 2.06.94-2.06 2.06-.94-2.06-.94-.94-2.06-.94 2.06-2.06.94z\"/><path d=\"M17.41 7.96l-1.37-1.37c-.4-.4-.92-.59-1.43-.59-.52 0-1.04.2-1.43.59L10.3 9.45l-7.72 7.72c-.78.78-.78 2.05 0 2.83L4 21.41c.39.39.9.59 1.41.59.51 0 1.02-.2 1.41-.59l7.78-7.78 2.81-2.81c.8-.78.8-2.07 0-2.86zM5.41 20L4 18.59l7.72-7.72 1.47 1.35L5.41 20z\"/>\n",
              "  </svg>\n",
              "      </button>\n",
              "\n",
              "\n",
              "\n",
              "    <div id=\"df-79f6e665-27d8-42b2-bd67-1b3354d803b9\">\n",
              "      <button class=\"colab-df-quickchart\" onclick=\"quickchart('df-79f6e665-27d8-42b2-bd67-1b3354d803b9')\"\n",
              "              title=\"Suggest charts.\"\n",
              "              style=\"display:none;\">\n",
              "\n",
              "<svg xmlns=\"http://www.w3.org/2000/svg\" height=\"24px\"viewBox=\"0 0 24 24\"\n",
              "     width=\"24px\">\n",
              "    <g>\n",
              "        <path d=\"M19 3H5c-1.1 0-2 .9-2 2v14c0 1.1.9 2 2 2h14c1.1 0 2-.9 2-2V5c0-1.1-.9-2-2-2zM9 17H7v-7h2v7zm4 0h-2V7h2v10zm4 0h-2v-4h2v4z\"/>\n",
              "    </g>\n",
              "</svg>\n",
              "      </button>\n",
              "    </div>\n",
              "\n",
              "<style>\n",
              "  .colab-df-quickchart {\n",
              "    background-color: #E8F0FE;\n",
              "    border: none;\n",
              "    border-radius: 50%;\n",
              "    cursor: pointer;\n",
              "    display: none;\n",
              "    fill: #1967D2;\n",
              "    height: 32px;\n",
              "    padding: 0 0 0 0;\n",
              "    width: 32px;\n",
              "  }\n",
              "\n",
              "  .colab-df-quickchart:hover {\n",
              "    background-color: #E2EBFA;\n",
              "    box-shadow: 0px 1px 2px rgba(60, 64, 67, 0.3), 0px 1px 3px 1px rgba(60, 64, 67, 0.15);\n",
              "    fill: #174EA6;\n",
              "  }\n",
              "\n",
              "  [theme=dark] .colab-df-quickchart {\n",
              "    background-color: #3B4455;\n",
              "    fill: #D2E3FC;\n",
              "  }\n",
              "\n",
              "  [theme=dark] .colab-df-quickchart:hover {\n",
              "    background-color: #434B5C;\n",
              "    box-shadow: 0px 1px 3px 1px rgba(0, 0, 0, 0.15);\n",
              "    filter: drop-shadow(0px 1px 2px rgba(0, 0, 0, 0.3));\n",
              "    fill: #FFFFFF;\n",
              "  }\n",
              "</style>\n",
              "\n",
              "    <script>\n",
              "      async function quickchart(key) {\n",
              "        const containerElement = document.querySelector('#' + key);\n",
              "        const charts = await google.colab.kernel.invokeFunction(\n",
              "            'suggestCharts', [key], {});\n",
              "      }\n",
              "    </script>\n",
              "\n",
              "      <script>\n",
              "\n",
              "function displayQuickchartButton(domScope) {\n",
              "  let quickchartButtonEl =\n",
              "    domScope.querySelector('#df-79f6e665-27d8-42b2-bd67-1b3354d803b9 button.colab-df-quickchart');\n",
              "  quickchartButtonEl.style.display =\n",
              "    google.colab.kernel.accessAllowed ? 'block' : 'none';\n",
              "}\n",
              "\n",
              "        displayQuickchartButton(document);\n",
              "      </script>\n",
              "      <style>\n",
              "    .colab-df-container {\n",
              "      display:flex;\n",
              "      flex-wrap:wrap;\n",
              "      gap: 12px;\n",
              "    }\n",
              "\n",
              "    .colab-df-convert {\n",
              "      background-color: #E8F0FE;\n",
              "      border: none;\n",
              "      border-radius: 50%;\n",
              "      cursor: pointer;\n",
              "      display: none;\n",
              "      fill: #1967D2;\n",
              "      height: 32px;\n",
              "      padding: 0 0 0 0;\n",
              "      width: 32px;\n",
              "    }\n",
              "\n",
              "    .colab-df-convert:hover {\n",
              "      background-color: #E2EBFA;\n",
              "      box-shadow: 0px 1px 2px rgba(60, 64, 67, 0.3), 0px 1px 3px 1px rgba(60, 64, 67, 0.15);\n",
              "      fill: #174EA6;\n",
              "    }\n",
              "\n",
              "    [theme=dark] .colab-df-convert {\n",
              "      background-color: #3B4455;\n",
              "      fill: #D2E3FC;\n",
              "    }\n",
              "\n",
              "    [theme=dark] .colab-df-convert:hover {\n",
              "      background-color: #434B5C;\n",
              "      box-shadow: 0px 1px 3px 1px rgba(0, 0, 0, 0.15);\n",
              "      filter: drop-shadow(0px 1px 2px rgba(0, 0, 0, 0.3));\n",
              "      fill: #FFFFFF;\n",
              "    }\n",
              "  </style>\n",
              "\n",
              "      <script>\n",
              "        const buttonEl =\n",
              "          document.querySelector('#df-334489ea-f8d2-4689-b279-98ac9f29c36f button.colab-df-convert');\n",
              "        buttonEl.style.display =\n",
              "          google.colab.kernel.accessAllowed ? 'block' : 'none';\n",
              "\n",
              "        async function convertToInteractive(key) {\n",
              "          const element = document.querySelector('#df-334489ea-f8d2-4689-b279-98ac9f29c36f');\n",
              "          const dataTable =\n",
              "            await google.colab.kernel.invokeFunction('convertToInteractive',\n",
              "                                                     [key], {});\n",
              "          if (!dataTable) return;\n",
              "\n",
              "          const docLinkHtml = 'Like what you see? Visit the ' +\n",
              "            '<a target=\"_blank\" href=https://colab.research.google.com/notebooks/data_table.ipynb>data table notebook</a>'\n",
              "            + ' to learn more about interactive tables.';\n",
              "          element.innerHTML = '';\n",
              "          dataTable['output_type'] = 'display_data';\n",
              "          await google.colab.output.renderOutput(dataTable, element);\n",
              "          const docLink = document.createElement('div');\n",
              "          docLink.innerHTML = docLinkHtml;\n",
              "          element.appendChild(docLink);\n",
              "        }\n",
              "      </script>\n",
              "    </div>\n",
              "  </div>\n"
            ],
            "text/plain": [
              "       chrom   Variant     ref     alt  most_severe_consequence  \\\n",
              "0          1     69456       C  CCTACA       frameshift_variant   \n",
              "1          1     69469  ACAATT       A       frameshift_variant   \n",
              "2          1     69516       G       A              stop_gained   \n",
              "3          1     69620      TA       T       frameshift_variant   \n",
              "4          1     69702      TG       T       frameshift_variant   \n",
              "...      ...       ...     ...     ...                      ...   \n",
              "443764     Y  22921918       C       G              stop_gained   \n",
              "443765     Y  22930689       A       G  splice_acceptor_variant   \n",
              "443766     Y  22930763       C       T              stop_gained   \n",
              "443767     Y  25375763      CA       C       frameshift_variant   \n",
              "443768     Y  27001010       C       T              stop_gained   \n",
              "\n",
              "               gene_ids gene_symbols  \\\n",
              "0       ENSG00000186092        OR4F5   \n",
              "1       ENSG00000186092        OR4F5   \n",
              "2       ENSG00000186092        OR4F5   \n",
              "3       ENSG00000186092        OR4F5   \n",
              "4       ENSG00000186092        OR4F5   \n",
              "...                 ...          ...   \n",
              "443764  ENSG00000157828       RPS4Y2   \n",
              "443765  ENSG00000157828       RPS4Y2   \n",
              "443766  ENSG00000157828       RPS4Y2   \n",
              "443767  ENSG00000205944         DAZ2   \n",
              "443768  ENSG00000205916         DAZ4   \n",
              "\n",
              "                                           transcript_ids  \n",
              "0                                         ENST00000335137  \n",
              "1                                         ENST00000335137  \n",
              "2                                         ENST00000335137  \n",
              "3                                         ENST00000335137  \n",
              "4                                         ENST00000335137  \n",
              "...                                                   ...  \n",
              "443764                                    ENST00000288666  \n",
              "443765                                    ENST00000288666  \n",
              "443766                                    ENST00000288666  \n",
              "443767  ENST00000382440,ENST00000382433,ENST0000038229...  \n",
              "443768  ENST00000415508,ENST00000400494,ENST0000038243...  \n",
              "\n",
              "[443769 rows x 8 columns]"
            ]
          },
          "execution_count": 12,
          "metadata": {},
          "output_type": "execute_result"
        }
      ],
      "source": [
        "gnomad"
      ]
    },
    {
      "cell_type": "code",
      "execution_count": 108,
      "metadata": {
        "id": "kOFG-o3IPvP7"
      },
      "outputs": [],
      "source": [
        "#chrom| Variant |ref | alt | most_severe_consequence| gene_ids | gene_symbols |\ttranscript_ids\n",
        "\n",
        "##variantes, consequencia e transcritos\n",
        "frame_transc = gnomad[(gnomad['gene_symbols'] == 'CFTR') & (gnomad['most_severe_consequence'] == 'frameshift_variant')].drop(['chrom', 'ref', 'alt', 'gene_ids',  'gene_symbols'], axis=1).values.T\n",
        "stop_transc = gnomad[(gnomad['gene_symbols'] == 'CFTR') & (gnomad['most_severe_consequence'] == 'stop_gained')].drop(['chrom', 'ref', 'alt', 'gene_ids',  'gene_symbols'], axis=1).values.T\n",
        "splice_transc = gnomad[(gnomad['gene_symbols'] == 'CFTR') & (gnomad['most_severe_consequence'] == 'splice_acceptor_variant')].drop(['chrom', 'ref', 'alt', 'gene_ids',  'gene_symbols'], axis=1).values.T\n",
        "donor_transc = gnomad[(gnomad['gene_symbols'] == 'CFTR') & (gnomad['most_severe_consequence'] == 'splice_donor_variant')].drop(['chrom', 'ref', 'alt', 'gene_ids',  'gene_symbols'], axis=1).values.T"
      ]
    },
    {
      "cell_type": "code",
      "execution_count": 125,
      "metadata": {
        "id": "dHkBGcLFoEbg"
      },
      "outputs": [],
      "source": [
        "##variantes e transcritos sem distinção de consequencia.\n",
        "#substituindo as consequencias por numeros\n",
        "all = gnomad[(gnomad['gene_symbols'] == 'CFTR')].drop(['chrom', 'ref', 'alt', 'gene_ids',  'gene_symbols'], axis=1)\n",
        "all = all.replace(['frameshift_variant','stop_gained','splice_donor_variant','splice_acceptor_variant'],[1,2,3,4]).values.T"
      ]
    },
    {
      "cell_type": "code",
      "execution_count": 288,
      "metadata": {},
      "outputs": [],
      "source": [
        "##variantes e transcritos sem distinção de consequencia.\n",
        "#substituindo as consequencias por numeros\n",
        "all = gnomad[(gnomad['gene_symbols'] == 'CFTR')].drop(['chrom', 'ref', 'alt', 'gene_ids',  'gene_symbols'], axis=1)\n",
        "all = all.replace(['frameshift_variant','stop_gained','splice_donor_variant','splice_acceptor_variant'], ['1','2','3','4'])\n",
        "\n",
        "all\n",
        "\n",
        "novas_linhas = []\n",
        "\n",
        "for tupla in all.itertuples():\n",
        "    nova_linha = []\n",
        "    variante = tupla[1]\n",
        "    consequencia = tupla[2]\n",
        "    transcritos = tupla[3].split(\",\")\n",
        "    for transcrito in transcritos:\n",
        "        novas_linhas.append([variante, transcrito, int(consequencia)]) # transforme o consequência em inteiro!\n",
        "    \n",
        "df2 = pd.DataFrame(novas_linhas, columns=[\"Variante\", \"Transcrito\", \"Consequencia\"])\n",
        "\n",
        "df3 = df2.pivot_table(index = \"Variante\", columns=\"Transcrito\", \n",
        "                      values=\"Consequencia\", fill_value=0).T\n",
        "df3.to_csv(\"Consequences.csv\")"
      ]
    },
    {
      "cell_type": "code",
      "execution_count": 109,
      "metadata": {
        "id": "LgOSgkP4fe0m"
      },
      "outputs": [],
      "source": [
        "#substituindo as consequencias por numeros inteiros\n",
        "consequences = (gnomad['most_severe_consequence'].unique())\n",
        "np.put(consequences, [0,1,2,3], [1,2,3,4])\n",
        "conseq = np.append(0,consequences[0:4])\n",
        "\n",
        "#0 - sem consequencia relacionada\n",
        "#1 - frameshift variant\n",
        "#2 - stop gained\n",
        "#3 - splice acceptor\n",
        "#4 - splice donor"
      ]
    },
    {
      "cell_type": "code",
      "execution_count": 110,
      "metadata": {
        "id": "37nLlFQIYmip"
      },
      "outputs": [],
      "source": [
        "#6 transcritos unicos que se repetem entre as variantes do gene CFTR\n",
        "unique_transc = gnomad.loc[(gnomad['gene_symbols']=='CFTR'),'transcript_ids'].unique()\n",
        "len_transcripts = len(unique_transc)"
      ]
    },
    {
      "cell_type": "code",
      "execution_count": 111,
      "metadata": {
        "id": "BzxnO5kpZ1sm"
      },
      "outputs": [],
      "source": [
        "#140 variantes unicas para o gene CFTR\n",
        "unique_variantes = gnomad.loc[(gnomad['gene_symbols']=='CFTR'),'Variant'].unique()\n",
        "len_variantes = len(unique_variantes)"
      ]
    },
    {
      "cell_type": "code",
      "execution_count": 112,
      "metadata": {
        "id": "mCp2MU4FkDya"
      },
      "outputs": [],
      "source": [
        "#padding das variantes para poder criar o dataframe\n",
        "new_v_sg = np.pad(stop_transc[0],(0, 6))\n",
        "new_v_splice = np.pad(splice_transc[0],(0,40))\n",
        "new_v_donor = np.pad(donor_transc[0],(0,41))"
      ]
    },
    {
      "cell_type": "code",
      "execution_count": 113,
      "metadata": {
        "id": "Rcdt3FU-kDyb"
      },
      "outputs": [],
      "source": [
        "##criando DataFrame das variantes por conseq\n",
        "data = np.array([frame_transc[0], new_v_sg, new_v_splice, new_v_donor])\n",
        "column_name = ('frameshift variant', 'stop gained variant',  'splice acceptor variant', 'splice donor variant')\n",
        "tabela = pd.DataFrame(data.T, columns = column_name)\n",
        "tabela = tabela.replace(0,' ') #substituindo os zeros por vazio\n",
        "\n",
        "l = [len(frame_transc[0]), len(stop_transc[0]), len(splice_transc[0]), len(donor_transc[0])]"
      ]
    },
    {
      "cell_type": "code",
      "execution_count": null,
      "metadata": {
        "id": "WVHa7JF63PlN"
      },
      "outputs": [],
      "source": [
        "##gráfico de pizza para visualizar as quantidades (em porcentagem) das variantes por consequência\n",
        "labels = column_name\n",
        "sizes = l\n",
        "#colors\n",
        "colors = ['#ff9999','#66b3ff','#99ff99','#ffcc99']\n",
        "\n",
        "#explsion\n",
        "explode = (0.07,0.05,0.03,0.03)\n",
        "plt.pie(sizes, colors = colors, labels=labels, autopct='%1.1f%%', startangle=90, pctdistance=0.85, explode = explode)\n",
        "\n",
        "#draw circle\n",
        "centre_circle = plt.Circle((0,0),0.70,fc='white')\n",
        "fig = plt.gcf()\n",
        "fig.gca().add_artist(centre_circle)\n",
        "\n",
        "# Equal aspect ratio ensures that pie is drawn as a circle\n",
        "ax1.axis('equal')\n",
        "plt.tight_layout()\n",
        "plt.show()"
      ]
    },
    {
      "cell_type": "code",
      "execution_count": null,
      "metadata": {
        "id": "YVlA8uHYwR-z"
      },
      "outputs": [],
      "source": [
        "##tabela de variantes por consequência\n",
        "fig, ax =plt.subplots(1,1)\n",
        "ax.table(cellText=tabela.values,\n",
        "        colLabels=tabela.columns,\n",
        "        colColours =[\"gray\"] * 4,\n",
        "        loc=\"center\")\n",
        "ax.axis(\"off\")\n",
        "plt.savefig('variantes_por_conseq.pdf')\n",
        "plt.show()"
      ]
    }
  ],
  "metadata": {
    "colab": {
      "provenance": []
    },
    "kernelspec": {
      "display_name": ".venv",
      "language": "python",
      "name": "python3"
    },
    "language_info": {
      "codemirror_mode": {
        "name": "ipython",
        "version": 3
      },
      "file_extension": ".py",
      "mimetype": "text/x-python",
      "name": "python",
      "nbconvert_exporter": "python",
      "pygments_lexer": "ipython3",
      "version": "3.11.4"
    },
    "orig_nbformat": 4
  },
  "nbformat": 4,
  "nbformat_minor": 0
}
