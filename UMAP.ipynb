{
 "cells": [
  {
   "cell_type": "code",
   "execution_count": 3,
   "id": "dc1842ac-aa2b-4a46-91c7-87b627476f93",
   "metadata": {
    "tags": []
   },
   "outputs": [],
   "source": [
    "import numpy as np\n",
    "import pandas as pd\n",
    "import matplotlib.pyplot as plt\n",
    "import seaborn as sns\n",
    "import umap\n",
    "from collections import defaultdict\n",
    "from bokeh.palettes import Category20b"
   ]
  },
  {
   "cell_type": "code",
   "execution_count": 4,
   "id": "92317cc4-72fb-438c-9b55-47b7f44bd211",
   "metadata": {
    "tags": []
   },
   "outputs": [],
   "source": [
    "pca_ld03 = pd.read_csv('PCA_ld03_eigenvec.txt', sep=' ', header=None)\n",
    "pca_ld08 = pd.read_csv('PCA_ld08_eigenvec.txt', sep=' ', header=None)"
   ]
  },
  {
   "cell_type": "code",
   "execution_count": 7,
   "id": "1c82afdb-8fa7-4b5b-9924-b829160a7153",
   "metadata": {
    "tags": []
   },
   "outputs": [],
   "source": [
    "kgp = pd.read_csv('1000GenomesPops.txt', sep='\\t')\n",
    "nat = pd.read_csv('NAT.txt', sep='\\t', header=None).drop(columns=[1])\n",
    "\n",
    "populations = ['YRI', 'CEU', 'PEL', 'PUR', 'CLM', 'MXL', 'NAT'] \n",
    "pop_kgp = kgp.loc[kgp['SubPopulation'].isin(populations)]\n",
    "pop_kgp =pop_kgp.drop(columns=['Family.ID', 'Population.Description', 'Gender'])\n",
    "\n",
    "nat.rename(columns={0: \"Sample\"}, inplace=True)\n",
    "nat = nat.assign(SubPopulation = 'NAT', Population='NAT')\n",
    "\n",
    "target_pop = pd.concat([pop_kgp, nat], ignore_index=True)"
   ]
  },
  {
   "cell_type": "code",
   "execution_count": 8,
   "id": "990804e4-4ac7-4318-afc1-2573f903b556",
   "metadata": {
    "tags": []
   },
   "outputs": [],
   "source": [
    "popul_by_ind = defaultdict(int)\n",
    "for tupla in target_pop.itertuples():\n",
    "    sample = tupla[1]\n",
    "    subpop = tupla[2]\n",
    "    popul = tupla[3]\n",
    "    popul_by_ind[sample] = subpop \n",
    "    \n",
    "pop_by_continent = {'EUR':['CEU'], 'AMR':['CLM', 'MXL',\n",
    "                                          'PEL', 'PUR'],\n",
    "                   'AFR':['YRI'],'NAT':['NAT']}\n",
    "continents = list(pop_by_continent.keys())"
   ]
  },
  {
   "cell_type": "code",
   "execution_count": 9,
   "id": "e20757a6-f8c4-4d41-81f9-51f4d596ee7b",
   "metadata": {
    "tags": []
   },
   "outputs": [
    {
     "data": {
      "text/plain": [
       "0         CHMI_CHMI3_WGS2\n",
       "1       LP6005441-DNA_F08\n",
       "2               HGDP00843\n",
       "3               HGDP00392\n",
       "4       LP6005441-DNA_H03\n",
       "              ...        \n",
       "4146              HG01767\n",
       "4147              HG01768\n",
       "4148              HG01785\n",
       "4149              HG01786\n",
       "4150              HG02219\n",
       "Name: 0, Length: 4151, dtype: object"
      ]
     },
     "execution_count": 9,
     "metadata": {},
     "output_type": "execute_result"
    }
   ],
   "source": [
    "individuals = pca_ld03[0]\n",
    "individuals"
   ]
  },
  {
   "cell_type": "code",
   "execution_count": 10,
   "id": "127d19f4-1976-4e6a-8f7e-bb5dea161480",
   "metadata": {
    "tags": []
   },
   "outputs": [],
   "source": [
    "idx_pops_members = defaultdict(list)\n",
    "for idx, individual in enumerate(individuals):\n",
    "    idx_pops_members[popul_by_ind[individual]].append(idx)"
   ]
  },
  {
   "cell_type": "code",
   "execution_count": 20,
   "id": "5e05578e-160b-46a7-a612-bd32fb16829d",
   "metadata": {
    "tags": []
   },
   "outputs": [],
   "source": [
    "pca_ld03 = pca_ld03[pca_ld03[1].isin(target_pop['Sample'])]"
   ]
  },
  {
   "cell_type": "code",
   "execution_count": 22,
   "id": "157a8b87-7658-4bf5-87c5-b99776d04278",
   "metadata": {
    "tags": []
   },
   "outputs": [],
   "source": [
    "pca_ld3 = pca_ld03.drop(columns=[0,1])\n",
    "pca_ld3 = pca_ld3.to_numpy(dtype='float32')"
   ]
  },
  {
   "cell_type": "code",
   "execution_count": 13,
   "id": "22194202-6f20-4e04-843a-6f364ac5afd4",
   "metadata": {
    "tags": []
   },
   "outputs": [
    {
     "data": {
      "text/plain": [
       "{'CEU': '#393b79',\n",
       " 'CLM': '#637939',\n",
       " 'MXL': '#8ca252',\n",
       " 'PEL': '#b5cf6b',\n",
       " 'PUR': '#cedb9c',\n",
       " 'YRI': '#8c6d31',\n",
       " 'NAT': '#843c39'}"
      ]
     },
     "execution_count": 13,
     "metadata": {},
     "output_type": "execute_result"
    }
   ],
   "source": [
    "color_dict = {}\n",
    "for i, cont in enumerate(continents): \n",
    "    for j, pop in enumerate(pop_by_continent[cont]):\n",
    "        color_dict[pop] = Category20b[20][4*i+j%4]\n",
    "color_dict"
   ]
  },
  {
   "cell_type": "code",
   "execution_count": 23,
   "id": "64f8a251-848a-43e6-99cf-37fbd9ff04c7",
   "metadata": {
    "tags": []
   },
   "outputs": [
    {
     "data": {
      "text/plain": [
       "(883, 20)"
      ]
     },
     "execution_count": 23,
     "metadata": {},
     "output_type": "execute_result"
    }
   ],
   "source": [
    "np.shape(pca_ld3)"
   ]
  },
  {
   "cell_type": "code",
   "execution_count": 24,
   "id": "7855c6c4-43f8-495e-9151-21fc3c8f5e32",
   "metadata": {
    "tags": []
   },
   "outputs": [
    {
     "name": "stdout",
     "output_type": "stream",
     "text": [
      "UMAP(min_dist=0.001, n_components=19, n_neighbors=10, verbose=True)\n",
      "Fri Sep 22 16:52:41 2023 Construct fuzzy simplicial set\n",
      "Fri Sep 22 16:52:41 2023 Finding Nearest Neighbors\n",
      "Fri Sep 22 16:52:41 2023 Finished Nearest Neighbor Search\n",
      "Fri Sep 22 16:52:41 2023 Construct embedding\n"
     ]
    },
    {
     "data": {
      "application/vnd.jupyter.widget-view+json": {
       "model_id": "04d699d97bcc4115b7d344b3967b67df",
       "version_major": 2,
       "version_minor": 0
      },
      "text/plain": [
       "Epochs completed:   0%|            0/500 [00:00]"
      ]
     },
     "metadata": {},
     "output_type": "display_data"
    },
    {
     "name": "stdout",
     "output_type": "stream",
     "text": [
      "\tcompleted  0  /  500 epochs\n",
      "\tcompleted  50  /  500 epochs\n",
      "\tcompleted  100  /  500 epochs\n",
      "\tcompleted  150  /  500 epochs\n",
      "\tcompleted  200  /  500 epochs\n",
      "\tcompleted  250  /  500 epochs\n",
      "\tcompleted  300  /  500 epochs\n",
      "\tcompleted  350  /  500 epochs\n",
      "\tcompleted  400  /  500 epochs\n",
      "\tcompleted  450  /  500 epochs\n",
      "Fri Sep 22 16:52:45 2023 Finished embedding\n"
     ]
    }
   ],
   "source": [
    "umap_proj = umap.UMAP(n_components=19, n_neighbors=10,\n",
    "                      min_dist=0.001,\n",
    "                    verbose=True).fit(pca_ld3[:, :19])"
   ]
  },
  {
   "cell_type": "code",
   "execution_count": 27,
   "id": "8bbd1755-ec09-418f-b90c-b2ab3dcdd455",
   "metadata": {
    "tags": []
   },
   "outputs": [
    {
     "data": {
      "text/plain": [
       "()"
      ]
     },
     "execution_count": 27,
     "metadata": {},
     "output_type": "execute_result"
    }
   ],
   "source": [
    "np.shape(umap_proj)"
   ]
  },
  {
   "cell_type": "code",
   "execution_count": 18,
   "id": "5e848db3-f6a0-48ec-9ff2-24590ec3c09c",
   "metadata": {
    "tags": []
   },
   "outputs": [
    {
     "ename": "IndexError",
     "evalue": "index 1451 is out of bounds for axis 0 with size 883",
     "output_type": "error",
     "traceback": [
      "\u001b[1;31m---------------------------------------------------------------------------\u001b[0m",
      "\u001b[1;31mIndexError\u001b[0m                                Traceback (most recent call last)",
      "Cell \u001b[1;32mIn[18], line 7\u001b[0m\n\u001b[0;32m      5\u001b[0m \u001b[38;5;28;01mfor\u001b[39;00m cont \u001b[38;5;129;01min\u001b[39;00m continents: \n\u001b[0;32m      6\u001b[0m     \u001b[38;5;28;01mfor\u001b[39;00m pop \u001b[38;5;129;01min\u001b[39;00m pop_by_continent[cont]:\n\u001b[1;32m----> 7\u001b[0m         temp_proj \u001b[38;5;241m=\u001b[39m dset[idx_pops_members[pop]]\n\u001b[0;32m      8\u001b[0m         plt\u001b[38;5;241m.\u001b[39mplot(temp_proj[:,\u001b[38;5;241m0\u001b[39m], temp_proj[:,\u001b[38;5;241m1\u001b[39m], \u001b[38;5;124m'\u001b[39m\u001b[38;5;124m.\u001b[39m\u001b[38;5;124m'\u001b[39m, color \u001b[38;5;241m=\u001b[39m color_dict[pop])\n\u001b[0;32m     10\u001b[0m plt\u001b[38;5;241m.\u001b[39mxlabel(\u001b[38;5;124m\"\u001b[39m\u001b[38;5;124mUMAP1\u001b[39m\u001b[38;5;124m\"\u001b[39m)\n",
      "\u001b[1;31mIndexError\u001b[0m: index 1451 is out of bounds for axis 0 with size 883"
     ]
    },
    {
     "data": {
      "text/plain": [
       "<Figure size 1000x1000 with 0 Axes>"
      ]
     },
     "metadata": {},
     "output_type": "display_data"
    }
   ],
   "source": [
    "plt.figure(figsize=(10,10))\n",
    "# Use the PCA projection\n",
    "dset = umap_proj.embedding_\n",
    "\n",
    "for cont in continents: \n",
    "    for pop in pop_by_continent[cont]:\n",
    "        temp_proj = dset[idx_pops_members[pop]]\n",
    "        plt.plot(temp_proj[:,0], temp_proj[:,1], '.', color = color_dict[pop])\n",
    "\n",
    "plt.xlabel(\"UMAP1\")\n",
    "plt.ylabel(\"UMAP2\")"
   ]
  },
  {
   "cell_type": "code",
   "execution_count": 164,
   "id": "224d353b-eff8-4d30-b33a-a35d47d17419",
   "metadata": {
    "tags": []
   },
   "outputs": [
    {
     "name": "stdout",
     "output_type": "stream",
     "text": [
      "Collecting adjustText\n",
      "  Downloading adjustText-0.8-py3-none-any.whl (9.1 kB)\n",
      "Requirement already satisfied: numpy in c:\\users\\camila - bioinfo\\anaconda3\\lib\\site-packages (from adjustText) (1.24.3)\n",
      "Requirement already satisfied: matplotlib in c:\\users\\camila - bioinfo\\anaconda3\\lib\\site-packages (from adjustText) (3.7.1)\n",
      "Requirement already satisfied: contourpy>=1.0.1 in c:\\users\\camila - bioinfo\\anaconda3\\lib\\site-packages (from matplotlib->adjustText) (1.0.5)\n",
      "Requirement already satisfied: cycler>=0.10 in c:\\users\\camila - bioinfo\\anaconda3\\lib\\site-packages (from matplotlib->adjustText) (0.11.0)\n",
      "Requirement already satisfied: fonttools>=4.22.0 in c:\\users\\camila - bioinfo\\anaconda3\\lib\\site-packages (from matplotlib->adjustText) (4.25.0)\n",
      "Requirement already satisfied: kiwisolver>=1.0.1 in c:\\users\\camila - bioinfo\\anaconda3\\lib\\site-packages (from matplotlib->adjustText) (1.4.4)\n",
      "Requirement already satisfied: packaging>=20.0 in c:\\users\\camila - bioinfo\\anaconda3\\lib\\site-packages (from matplotlib->adjustText) (23.0)\n",
      "Requirement already satisfied: pillow>=6.2.0 in c:\\users\\camila - bioinfo\\anaconda3\\lib\\site-packages (from matplotlib->adjustText) (9.4.0)\n",
      "Requirement already satisfied: pyparsing>=2.3.1 in c:\\users\\camila - bioinfo\\anaconda3\\lib\\site-packages (from matplotlib->adjustText) (3.0.9)\n",
      "Requirement already satisfied: python-dateutil>=2.7 in c:\\users\\camila - bioinfo\\anaconda3\\lib\\site-packages (from matplotlib->adjustText) (2.8.2)\n",
      "Requirement already satisfied: six>=1.5 in c:\\users\\camila - bioinfo\\anaconda3\\lib\\site-packages (from python-dateutil>=2.7->matplotlib->adjustText) (1.16.0)\n",
      "Installing collected packages: adjustText\n",
      "Successfully installed adjustText-0.8\n",
      "Note: you may need to restart the kernel to use updated packages.\n"
     ]
    }
   ],
   "source": [
    "pip install adjustText"
   ]
  },
  {
   "cell_type": "code",
   "execution_count": 162,
   "id": "1ba91dbe-435b-4a9e-867f-7a72d527a695",
   "metadata": {
    "tags": []
   },
   "outputs": [],
   "source": [
    "from adjustText import adjust_text\n",
    "import matplotlib.patheffects as PathEffects\n",
    "\n",
    "# parameters for plots\n",
    "point_alpha = 0.15 # alpha parameter for points\n",
    "fsize = 20 # font size for labels\n",
    "lwidth = 0.5 # line width for labels"
   ]
  },
  {
   "cell_type": "code",
   "execution_count": 163,
   "id": "5cb8a8cf-1031-49ef-8cd4-7e6b9a591e38",
   "metadata": {
    "tags": []
   },
   "outputs": [
    {
     "ename": "NameError",
     "evalue": "name 'adjust_text' is not defined",
     "output_type": "error",
     "traceback": [
      "\u001b[1;31m---------------------------------------------------------------------------\u001b[0m",
      "\u001b[1;31mNameError\u001b[0m                                 Traceback (most recent call last)",
      "Cell \u001b[1;32mIn[163], line 21\u001b[0m\n\u001b[0;32m     16\u001b[0m             \u001b[38;5;28;01mif\u001b[39;00m i\u001b[38;5;241m==\u001b[39mtemp_proj\u001b[38;5;241m.\u001b[39mshape[\u001b[38;5;241m0\u001b[39m]\u001b[38;5;241m-\u001b[39m\u001b[38;5;241m1\u001b[39m:\n\u001b[0;32m     17\u001b[0m                 texts\u001b[38;5;241m.\u001b[39mappend(ax\u001b[38;5;241m.\u001b[39mtext(temp_proj_sub[\u001b[38;5;241m0\u001b[39m], temp_proj_sub[\u001b[38;5;241m1\u001b[39m], pop,\n\u001b[0;32m     18\u001b[0m                                      fontdict\u001b[38;5;241m=\u001b[39m{\u001b[38;5;124m\"\u001b[39m\u001b[38;5;124mcolor\u001b[39m\u001b[38;5;124m\"\u001b[39m: color_dict[pop], \u001b[38;5;124m\"\u001b[39m\u001b[38;5;124msize\u001b[39m\u001b[38;5;124m\"\u001b[39m: fsize},\n\u001b[0;32m     19\u001b[0m                                      path_effects\u001b[38;5;241m=\u001b[39m[PathEffects\u001b[38;5;241m.\u001b[39mwithStroke(linewidth\u001b[38;5;241m=\u001b[39mlwidth, foreground\u001b[38;5;241m=\u001b[39m\u001b[38;5;124m\"\u001b[39m\u001b[38;5;124mblack\u001b[39m\u001b[38;5;124m\"\u001b[39m)]))\n\u001b[1;32m---> 21\u001b[0m adjust_text(texts)\n\u001b[0;32m     23\u001b[0m plt\u001b[38;5;241m.\u001b[39mstyle\u001b[38;5;241m.\u001b[39muse([\u001b[38;5;124m'\u001b[39m\u001b[38;5;124mdefault\u001b[39m\u001b[38;5;124m'\u001b[39m])\n\u001b[0;32m     24\u001b[0m plt\u001b[38;5;241m.\u001b[39mxlabel(\u001b[38;5;124m\"\u001b[39m\u001b[38;5;124mPC1\u001b[39m\u001b[38;5;124m\"\u001b[39m)\n",
      "\u001b[1;31mNameError\u001b[0m: name 'adjust_text' is not defined"
     ]
    },
    {
     "data": {
      "image/png": "[encoded data removed]",
      "text/plain": [
       "<Figure size 1000x1000 with 1 Axes>"
      ]
     },
     "metadata": {},
     "output_type": "display_data"
    }
   ],
   "source": [
    "fig = plt.figure(figsize=(10,10))\n",
    "ax = fig.add_subplot(111, aspect=1)\n",
    "\n",
    "ax.set_facecolor('#f9f9f9')\n",
    "\n",
    "dset = umap_proj.embedding_\n",
    "\n",
    "texts = []\n",
    "\n",
    "for cont in continents: \n",
    "    for pop in pop_by_continent[cont]:\n",
    "        temp_proj = dset[idx_pops_members[pop]]\n",
    "        plt.plot(temp_proj[:,0], temp_proj[:,1], '.', color = color_dict[pop], alpha=point_alpha)\n",
    "        \n",
    "        for i, temp_proj_sub in enumerate(temp_proj):\n",
    "            if i==temp_proj.shape[0]-1:\n",
    "                texts.append(ax.text(temp_proj_sub[0], temp_proj_sub[1], pop,\n",
    "                                     fontdict={\"color\": color_dict[pop], \"size\": fsize},\n",
    "                                     path_effects=[PathEffects.withStroke(linewidth=lwidth, foreground=\"black\")]))\n",
    "\n",
    "adjust_text(texts)\n",
    "\n",
    "plt.style.use(['default'])\n",
    "plt.xlabel(\"PC1\")\n",
    "plt.ylabel(\"PC2\")\n",
    "\n",
    "plt.tight_layout()"
   ]
  },
  {
   "cell_type": "code",
   "execution_count": null,
   "id": "9867a8b0-e845-4ebe-ae53-677e1c32fafe",
   "metadata": {},
   "outputs": [],
   "source": []
  }
 ],
 "metadata": {
  "kernelspec": {
   "display_name": "Python 3 (ipykernel)",
   "language": "python",
   "name": "python3"
  },
  "language_info": {
   "codemirror_mode": {
    "name": "ipython",
    "version": 3
   },
   "file_extension": ".py",
   "mimetype": "text/x-python",
   "name": "python",
   "nbconvert_exporter": "python",
   "pygments_lexer": "ipython3",
   "version": "3.11.4"
  }
 },
 "nbformat": 4,
 "nbformat_minor": 5
}
