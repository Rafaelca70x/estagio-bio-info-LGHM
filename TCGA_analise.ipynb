{
 "cells": [
  {
   "cell_type": "code",
   "execution_count": 1,
   "id": "3e65cbb1-814e-415d-a704-1b60ea27c9c1",
   "metadata": {},
   "outputs": [],
   "source": [
    "import pandas as pd"
   ]
  },
  {
   "cell_type": "code",
   "execution_count": 2,
   "id": "30619da2-663f-4725-8c27-dbdd646d2dda",
   "metadata": {},
   "outputs": [],
   "source": [
    "path= r\"Documents/ESTÁGIO LGHM - BIOINFO - CAMILA/DATASETS/TCGA_mutations_stomach_primary_tumor.json\""
   ]
  },
  {
   "cell_type": "code",
   "execution_count": 6,
   "id": "0cc5fc4f-19c1-4e1e-8ce1-2050cd70d424",
   "metadata": {},
   "outputs": [],
   "source": [
    "json = pd.read_json(path, orient='records')"
   ]
  },
  {
   "cell_type": "code",
   "execution_count": 11,
   "id": "5596f9f5-95a3-4140-b70a-6770ac2bfd7a",
   "metadata": {},
   "outputs": [
    {
     "data": {
      "text/html": [
       "<div>\n",
       "<style scoped>\n",
       "    .dataframe tbody tr th:only-of-type {\n",
       "        vertical-align: middle;\n",
       "    }\n",
       "\n",
       "    .dataframe tbody tr th {\n",
       "        vertical-align: top;\n",
       "    }\n",
       "\n",
       "    .dataframe thead th {\n",
       "        text-align: right;\n",
       "    }\n",
       "</style>\n",
       "<table border=\"1\" class=\"dataframe\">\n",
       "  <thead>\n",
       "    <tr style=\"text-align: right;\">\n",
       "      <th></th>\n",
       "      <th>consequence</th>\n",
       "      <th>mutation_subtype</th>\n",
       "      <th>ssm_id</th>\n",
       "      <th>genomic_dna_change</th>\n",
       "    </tr>\n",
       "  </thead>\n",
       "  <tbody>\n",
       "    <tr>\n",
       "      <th>0</th>\n",
       "      <td>[{'transcript': {'annotation': {'polyphen_impa...</td>\n",
       "      <td>Single base substitution</td>\n",
       "      <td>7fc63c99-6bf6-5184-abeb-4d31ec07c4e9</td>\n",
       "      <td>chr7:g.151360230C&gt;T</td>\n",
       "    </tr>\n",
       "    <tr>\n",
       "      <th>1</th>\n",
       "      <td>[{'transcript': {'annotation': {'polyphen_impa...</td>\n",
       "      <td>Single base substitution</td>\n",
       "      <td>4f4cf272-45d5-5855-a1b2-d0cc235a6844</td>\n",
       "      <td>chr14:g.63204918G&gt;A</td>\n",
       "    </tr>\n",
       "    <tr>\n",
       "      <th>2</th>\n",
       "      <td>[{'transcript': {'annotation': {'polyphen_impa...</td>\n",
       "      <td>Small insertion</td>\n",
       "      <td>64aceac6-ceb3-5018-b99a-389e4072b074</td>\n",
       "      <td>chr3:g.51419993_51419994insT</td>\n",
       "    </tr>\n",
       "    <tr>\n",
       "      <th>3</th>\n",
       "      <td>[{'transcript': {'annotation': {'polyphen_impa...</td>\n",
       "      <td>Single base substitution</td>\n",
       "      <td>cb959ed8-7715-5932-b6b5-8616c2a52e09</td>\n",
       "      <td>chr8:g.138242991A&gt;C</td>\n",
       "    </tr>\n",
       "    <tr>\n",
       "      <th>4</th>\n",
       "      <td>[{'transcript': {'annotation': {'polyphen_impa...</td>\n",
       "      <td>Single base substitution</td>\n",
       "      <td>17b015a1-6b9f-5b4c-912a-a367ef17c436</td>\n",
       "      <td>chr10:g.77805688C&gt;T</td>\n",
       "    </tr>\n",
       "    <tr>\n",
       "      <th>...</th>\n",
       "      <td>...</td>\n",
       "      <td>...</td>\n",
       "      <td>...</td>\n",
       "      <td>...</td>\n",
       "    </tr>\n",
       "    <tr>\n",
       "      <th>154868</th>\n",
       "      <td>[{'transcript': {'annotation': {'polyphen_impa...</td>\n",
       "      <td>Single base substitution</td>\n",
       "      <td>70ba1940-6f1b-5b1e-b232-30916360dc37</td>\n",
       "      <td>chr20:g.38771746G&gt;A</td>\n",
       "    </tr>\n",
       "    <tr>\n",
       "      <th>154869</th>\n",
       "      <td>[{'transcript': {'annotation': {'polyphen_impa...</td>\n",
       "      <td>Single base substitution</td>\n",
       "      <td>c2af4aee-143b-5d56-97d8-320c124b209d</td>\n",
       "      <td>chr14:g.80899950G&gt;T</td>\n",
       "    </tr>\n",
       "    <tr>\n",
       "      <th>154870</th>\n",
       "      <td>[{'transcript': {'annotation': {'polyphen_impa...</td>\n",
       "      <td>Single base substitution</td>\n",
       "      <td>479423c5-356b-522f-a054-aba333618095</td>\n",
       "      <td>chr10:g.84141510G&gt;A</td>\n",
       "    </tr>\n",
       "    <tr>\n",
       "      <th>154871</th>\n",
       "      <td>[{'transcript': {'annotation': {'polyphen_impa...</td>\n",
       "      <td>Single base substitution</td>\n",
       "      <td>5a49aa91-f840-5c42-a160-1a867d1a1922</td>\n",
       "      <td>chr2:g.102375972A&gt;C</td>\n",
       "    </tr>\n",
       "    <tr>\n",
       "      <th>154872</th>\n",
       "      <td>[{'transcript': {'annotation': {'polyphen_impa...</td>\n",
       "      <td>Single base substitution</td>\n",
       "      <td>67ff67e5-14fe-5eb1-806c-cbe63a6bcae2</td>\n",
       "      <td>chr19:g.10287608C&gt;T</td>\n",
       "    </tr>\n",
       "  </tbody>\n",
       "</table>\n",
       "<p>154873 rows × 4 columns</p>\n",
       "</div>"
      ],
      "text/plain": [
       "                                              consequence  \\\n",
       "0       [{'transcript': {'annotation': {'polyphen_impa...   \n",
       "1       [{'transcript': {'annotation': {'polyphen_impa...   \n",
       "2       [{'transcript': {'annotation': {'polyphen_impa...   \n",
       "3       [{'transcript': {'annotation': {'polyphen_impa...   \n",
       "4       [{'transcript': {'annotation': {'polyphen_impa...   \n",
       "...                                                   ...   \n",
       "154868  [{'transcript': {'annotation': {'polyphen_impa...   \n",
       "154869  [{'transcript': {'annotation': {'polyphen_impa...   \n",
       "154870  [{'transcript': {'annotation': {'polyphen_impa...   \n",
       "154871  [{'transcript': {'annotation': {'polyphen_impa...   \n",
       "154872  [{'transcript': {'annotation': {'polyphen_impa...   \n",
       "\n",
       "                mutation_subtype                                ssm_id  \\\n",
       "0       Single base substitution  7fc63c99-6bf6-5184-abeb-4d31ec07c4e9   \n",
       "1       Single base substitution  4f4cf272-45d5-5855-a1b2-d0cc235a6844   \n",
       "2                Small insertion  64aceac6-ceb3-5018-b99a-389e4072b074   \n",
       "3       Single base substitution  cb959ed8-7715-5932-b6b5-8616c2a52e09   \n",
       "4       Single base substitution  17b015a1-6b9f-5b4c-912a-a367ef17c436   \n",
       "...                          ...                                   ...   \n",
       "154868  Single base substitution  70ba1940-6f1b-5b1e-b232-30916360dc37   \n",
       "154869  Single base substitution  c2af4aee-143b-5d56-97d8-320c124b209d   \n",
       "154870  Single base substitution  479423c5-356b-522f-a054-aba333618095   \n",
       "154871  Single base substitution  5a49aa91-f840-5c42-a160-1a867d1a1922   \n",
       "154872  Single base substitution  67ff67e5-14fe-5eb1-806c-cbe63a6bcae2   \n",
       "\n",
       "                  genomic_dna_change  \n",
       "0                chr7:g.151360230C>T  \n",
       "1                chr14:g.63204918G>A  \n",
       "2       chr3:g.51419993_51419994insT  \n",
       "3                chr8:g.138242991A>C  \n",
       "4                chr10:g.77805688C>T  \n",
       "...                              ...  \n",
       "154868           chr20:g.38771746G>A  \n",
       "154869           chr14:g.80899950G>T  \n",
       "154870           chr10:g.84141510G>A  \n",
       "154871           chr2:g.102375972A>C  \n",
       "154872           chr19:g.10287608C>T  \n",
       "\n",
       "[154873 rows x 4 columns]"
      ]
     },
     "execution_count": 11,
     "metadata": {},
     "output_type": "execute_result"
    }
   ],
   "source": [
    "json"
   ]
  },
  {
   "cell_type": "code",
   "execution_count": 50,
   "id": "fd42c936-1da2-4901-811d-7942acf35067",
   "metadata": {},
   "outputs": [
    {
     "data": {
      "text/plain": [
       "21"
      ]
     },
     "execution_count": 50,
     "metadata": {},
     "output_type": "execute_result"
    }
   ],
   "source": [
    "lista = []\n",
    "for i in range(154873):\n",
    "    lista.append(json['consequence'][i][0]['transcript']['gene']['symbol'])\n",
    "\n",
    "lista.count('CFTR')"
   ]
  },
  {
   "cell_type": "code",
   "execution_count": 79,
   "id": "6f1612b4-873e-4736-9dca-ddc962bb7ac2",
   "metadata": {
    "tags": []
   },
   "outputs": [],
   "source": [
    "indices = [idx for idx, gene in enumerate(lista) if gene =='CFTR']"
   ]
  },
  {
   "cell_type": "code",
   "execution_count": 80,
   "id": "ad1fb0db-f599-412e-bf8e-da55274c6787",
   "metadata": {
    "tags": []
   },
   "outputs": [
    {
     "data": {
      "text/plain": [
       "[16653,\n",
       " 27178,\n",
       " 35740,\n",
       " 36948,\n",
       " 37062,\n",
       " 39480,\n",
       " 55896,\n",
       " 80049,\n",
       " 81520,\n",
       " 81833,\n",
       " 103592,\n",
       " 108816,\n",
       " 115173,\n",
       " 118551,\n",
       " 121087,\n",
       " 129633,\n",
       " 130505,\n",
       " 140813,\n",
       " 150716,\n",
       " 152498,\n",
       " 154664]"
      ]
     },
     "execution_count": 80,
     "metadata": {},
     "output_type": "execute_result"
    }
   ],
   "source": [
    "indices"
   ]
  }
 ],
 "metadata": {
  "kernelspec": {
   "display_name": "Python 3 (ipykernel)",
   "language": "python",
   "name": "python3"
  },
  "language_info": {
   "codemirror_mode": {
    "name": "ipython",
    "version": 3
   },
   "file_extension": ".py",
   "mimetype": "text/x-python",
   "name": "python",
   "nbconvert_exporter": "python",
   "pygments_lexer": "ipython3",
   "version": "3.11.4"
  }
 },
 "nbformat": 4,
 "nbformat_minor": 5
}
