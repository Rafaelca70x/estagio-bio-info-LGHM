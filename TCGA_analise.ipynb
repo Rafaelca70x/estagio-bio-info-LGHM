{
 "cells": [
  {
   "cell_type": "code",
   "execution_count": 90,
   "id": "3e65cbb1-814e-415d-a704-1b60ea27c9c1",
   "metadata": {},
   "outputs": [],
   "source": [
    "import pandas as pd\n",
    "import numpy as np"
   ]
  },
  {
   "cell_type": "code",
   "execution_count": 11,
   "id": "30619da2-663f-4725-8c27-dbdd646d2dda",
   "metadata": {},
   "outputs": [],
   "source": [
    "path_blood= r\"Documents/ESTÁGIO LGHM - BIOINFO - CAMILA/DATASETS/TCGA_mutations_stomach_blood.json\"\n",
    "path_tissue= r\"Documents/ESTÁGIO LGHM - BIOINFO - CAMILA/DATASETS/TCGA_mutations_stomach_solid_tissue.json\"\n",
    "path_tumor= r\"Documents/ESTÁGIO LGHM - BIOINFO - CAMILA/DATASETS/TCGA_mutations_stomach_primary_tumor.json\""
   ]
  },
  {
   "cell_type": "code",
   "execution_count": 247,
   "id": "0cc5fc4f-19c1-4e1e-8ce1-2050cd70d424",
   "metadata": {},
   "outputs": [],
   "source": [
    "blood = pd.read_json(path_blood, orient='records')\n",
    "tissue = pd.read_json(path_tissue, orient='records')\n",
    "primary_tumor= pd.read_json(path_tumor, orient='records')"
   ]
  },
  {
   "cell_type": "code",
   "execution_count": 248,
   "id": "fd42c936-1da2-4901-811d-7942acf35067",
   "metadata": {},
   "outputs": [],
   "source": [
    "def gene(json):\n",
    "    lista = []\n",
    "    for i in range(len(json)):\n",
    "        lista.append(json['consequence'][i][0]['transcript']['gene']['symbol'])\n",
    "    indices = [idx for idx, gene in enumerate(lista) if gene =='CFTR']\n",
    "    return indices"
   ]
  },
  {
   "cell_type": "code",
   "execution_count": 249,
   "id": "76126e0f-48a8-437a-a963-e774efcb44af",
   "metadata": {
    "tags": []
   },
   "outputs": [],
   "source": [
    "idx_blood = gene(blood)\n",
    "idx_tumor = gene(primary_tumor)\n",
    "idx_tissue = gene(tissue)"
   ]
  },
  {
   "cell_type": "code",
   "execution_count": 250,
   "id": "66fb15df-e46d-43b0-adc9-e901eae1e9f5",
   "metadata": {
    "tags": []
   },
   "outputs": [
    {
     "data": {
      "text/plain": [
       "[13247,\n",
       " 21617,\n",
       " 29333,\n",
       " 29416,\n",
       " 31351,\n",
       " 44415,\n",
       " 63536,\n",
       " 64965,\n",
       " 82275,\n",
       " 91483,\n",
       " 94223,\n",
       " 96214,\n",
       " 102981,\n",
       " 103672,\n",
       " 111835,\n",
       " 119743,\n",
       " 121146]"
      ]
     },
     "execution_count": 250,
     "metadata": {},
     "output_type": "execute_result"
    }
   ],
   "source": [
    "idx_blood"
   ]
  },
  {
   "cell_type": "code",
   "execution_count": 258,
   "id": "c3741661-be50-47fd-86af-687dd43e9296",
   "metadata": {
    "tags": []
   },
   "outputs": [],
   "source": [
    "def annotation(tipo, idx, name):\n",
    "    lista = [[] for x in range(6)]\n",
    "    for ix in idx:\n",
    "        data = tipo['consequence'][ix]\n",
    "        for i in range(len(data)):\n",
    "            t = data[i]['transcript']\n",
    "            poly_imp = t['annotation']['polyphen_impact']\n",
    "            sift_imp = t['annotation']['sift_impact']\n",
    "            vep_imp = t['annotation']['vep_impact']\n",
    "            conseq_type = t['consequence_type']\n",
    "            gene_symbol = t['gene']['symbol']\n",
    "            lista[0].append(poly_imp)\n",
    "            lista[1].append(sift_imp)\n",
    "            lista[2].append(vep_imp)\n",
    "            lista[3].append(conseq_type)\n",
    "            lista[4].append(gene_symbol)\n",
    "            lista[5].append(tipo['genomic_dna_change'][ix])\n",
    "    lista = np.reshape(lista,(6,-1)).T\n",
    "    df = pd.DataFrame(lista, index = [name for s in range(len(lista))],\n",
    "             columns = ['polyphen_imp', 'sift_impact', 'vep_impact', 'consequence_type','gene_symbol','genomic_dna_change'])\n",
    "    df.drop_duplicates(inplace=True)\n",
    "    return df"
   ]
  },
  {
   "cell_type": "code",
   "execution_count": 261,
   "id": "fdce2577-e03d-403c-a8b4-87fe66cc213e",
   "metadata": {
    "tags": []
   },
   "outputs": [],
   "source": [
    "df_tissue = annotation(tissue, idx_tissue, 'solid tissue normal')\n",
    "df_blood = annotation(blood, idx_blood, 'blood derived normal')\n",
    "df_tumor = annotation(primary_tumor, idx_tumor, 'primary tumor')"
   ]
  },
  {
   "cell_type": "code",
   "execution_count": 262,
   "id": "e82ac1b6-9127-4d86-93f4-b7a7bdc52691",
   "metadata": {
    "tags": []
   },
   "outputs": [],
   "source": [
    "df_stomach = pd.concat([df_tissue, df_blood, df_tumor])"
   ]
  },
  {
   "cell_type": "code",
   "execution_count": 268,
   "id": "25c0603b-b5e2-41e0-900a-052003715459",
   "metadata": {
    "tags": []
   },
   "outputs": [],
   "source": [
    "df_stomach.to_csv('TCGA_STOMACH_CFTR.csv')"
   ]
  },
  {
   "cell_type": "code",
   "execution_count": 267,
   "id": "79f1cd68-a707-495c-9a8d-db18ff011990",
   "metadata": {
    "tags": []
   },
   "outputs": [
    {
     "data": {
      "text/plain": [
       "pandas.core.frame.DataFrame"
      ]
     },
     "execution_count": 267,
     "metadata": {},
     "output_type": "execute_result"
    }
   ],
   "source": [
    "type(df_stomach)"
   ]
  },
  {
   "cell_type": "code",
   "execution_count": null,
   "id": "5c3f60f9-0919-4a46-81e2-bc2c7a67b177",
   "metadata": {},
   "outputs": [],
   "source": []
  }
 ],
 "metadata": {
  "kernelspec": {
   "display_name": "Python 3 (ipykernel)",
   "language": "python",
   "name": "python3"
  },
  "language_info": {
   "codemirror_mode": {
    "name": "ipython",
    "version": 3
   },
   "file_extension": ".py",
   "mimetype": "text/x-python",
   "name": "python",
   "nbconvert_exporter": "python",
   "pygments_lexer": "ipython3",
   "version": "3.11.4"
  }
 },
 "nbformat": 4,
 "nbformat_minor": 5
}
